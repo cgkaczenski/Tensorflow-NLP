{
 "cells": [
  {
   "cell_type": "markdown",
   "metadata": {
    "deletable": true,
    "editable": true
   },
   "source": [
    "# Skip-gram word2vec\n",
    "\n",
    "In this notebook, I'll lead you through using TensorFlow to implement the word2vec algorithm using the skip-gram architecture. By implementing this, you'll learn about embedding words for use in natural language processing. This will come in handy when dealing with things like translations.\n",
    "\n",
    "## Readings\n",
    "\n",
    "Here are the resources I used to build this notebook. I suggest reading these either beforehand or while you're working on this material.\n",
    "\n",
    "* A really good [conceptual overview](http://mccormickml.com/2016/04/19/word2vec-tutorial-the-skip-gram-model/) of word2vec from Chris McCormick \n",
    "* [First word2vec paper](https://arxiv.org/pdf/1301.3781.pdf) from Mikolov et al.\n",
    "* [NIPS paper](http://papers.nips.cc/paper/5021-distributed-representations-of-words-and-phrases-and-their-compositionality.pdf) with improvements for word2vec also from Mikolov et al.\n",
    "* An [implementation of word2vec](http://www.thushv.com/natural_language_processing/word2vec-part-1-nlp-with-deep-learning-with-tensorflow-skip-gram/) from Thushan Ganegedara\n",
    "* TensorFlow [word2vec tutorial](https://www.tensorflow.org/tutorials/word2vec)\n",
    "\n",
    "## Word embeddings\n",
    "\n",
    "When you're dealing with language and words, you end up with tens of thousands of classes to predict, one for each word. Trying to one-hot encode these words is massively inefficient, you'll have one element set to 1 and the other 50,000 set to 0. The word2vec algorithm finds much more efficient representations by finding vectors that represent the words. These vectors also contain semantic information about the words. Words that show up in similar contexts, such as \"black\", \"white\", and \"red\" will have vectors near each other. There are two architectures for implementing word2vec, CBOW (Continuous Bag-Of-Words) and Skip-gram.\n",
    "\n",
    "<img src=\"assets/word2vec_architectures.png\" width=\"500\">\n",
    "\n",
    "In this implementation, we'll be using the skip-gram architecture because it performs better than CBOW. Here, we pass in a word and try to predict the words surrounding it in the text. In this way, we can train the network to learn representations for words that show up in similar contexts.\n",
    "\n",
    "First up, importing packages."
   ]
  },
  {
   "cell_type": "code",
   "execution_count": 1,
   "metadata": {
    "collapsed": false,
    "deletable": true,
    "editable": true
   },
   "outputs": [],
   "source": [
    "import time\n",
    "\n",
    "import numpy as np\n",
    "import tensorflow as tf\n",
    "\n",
    "import utils"
   ]
  },
  {
   "cell_type": "markdown",
   "metadata": {
    "deletable": true,
    "editable": true
   },
   "source": [
    "Load the [text8 dataset](http://mattmahoney.net/dc/textdata.html), a file of cleaned up Wikipedia articles from Matt Mahoney. The next cell will download the data set to the `data` folder. Then you can extract it and delete the archive file to save storage space."
   ]
  },
  {
   "cell_type": "code",
   "execution_count": 2,
   "metadata": {
    "collapsed": false,
    "deletable": true,
    "editable": true
   },
   "outputs": [],
   "source": [
    "from urllib.request import urlretrieve\n",
    "from os.path import isfile, isdir\n",
    "from tqdm import tqdm\n",
    "import zipfile\n",
    "\n",
    "dataset_folder_path = 'data'\n",
    "dataset_filename = 'text8.zip'\n",
    "dataset_name = 'Text8 Dataset'\n",
    "\n",
    "class DLProgress(tqdm):\n",
    "    last_block = 0\n",
    "\n",
    "    def hook(self, block_num=1, block_size=1, total_size=None):\n",
    "        self.total = total_size\n",
    "        self.update((block_num - self.last_block) * block_size)\n",
    "        self.last_block = block_num\n",
    "\n",
    "if not isfile(dataset_filename):\n",
    "    with DLProgress(unit='B', unit_scale=True, miniters=1, desc=dataset_name) as pbar:\n",
    "        urlretrieve(\n",
    "            'http://mattmahoney.net/dc/text8.zip',\n",
    "            dataset_filename,\n",
    "            pbar.hook)\n",
    "\n",
    "if not isdir(dataset_folder_path):\n",
    "    with zipfile.ZipFile(dataset_filename) as zip_ref:\n",
    "        zip_ref.extractall(dataset_folder_path)\n",
    "        \n",
    "with open('data/text8') as f:\n",
    "    text = f.read()"
   ]
  },
  {
   "cell_type": "markdown",
   "metadata": {
    "deletable": true,
    "editable": true
   },
   "source": [
    "## Preprocessing\n",
    "\n",
    "Here I'm fixing up the text to make training easier. This comes from the `utils` module I wrote. The `preprocess` function coverts any punctuation into tokens, so a period is changed to ` <PERIOD> `. In this data set, there aren't any periods, but it will help in other NLP problems. I'm also removing all words that show up five or fewer times in the dataset. This will greatly reduce issues due to noise in the data and improve the quality of the vector representations. If you want to write your own functions for this stuff, go for it."
   ]
  },
  {
   "cell_type": "code",
   "execution_count": 3,
   "metadata": {
    "collapsed": false,
    "deletable": true,
    "editable": true
   },
   "outputs": [
    {
     "name": "stdout",
     "output_type": "stream",
     "text": [
      "['anarchism', 'originated', 'as', 'a', 'term', 'of', 'abuse', 'first', 'used', 'against', 'early', 'working', 'class', 'radicals', 'including', 'the', 'diggers', 'of', 'the', 'english', 'revolution', 'and', 'the', 'sans', 'culottes', 'of', 'the', 'french', 'revolution', 'whilst']\n"
     ]
    }
   ],
   "source": [
    "words = utils.preprocess(text)\n",
    "print(words[:30])"
   ]
  },
  {
   "cell_type": "code",
   "execution_count": 4,
   "metadata": {
    "collapsed": false,
    "deletable": true,
    "editable": true
   },
   "outputs": [
    {
     "name": "stdout",
     "output_type": "stream",
     "text": [
      "Total words: 16680599\n",
      "Unique words: 63641\n"
     ]
    }
   ],
   "source": [
    "print(\"Total words: {}\".format(len(words)))\n",
    "print(\"Unique words: {}\".format(len(set(words))))"
   ]
  },
  {
   "cell_type": "markdown",
   "metadata": {
    "deletable": true,
    "editable": true
   },
   "source": [
    "And here I'm creating dictionaries to covert words to integers and backwards, integers to words. The integers are assigned in descending frequency order, so the most frequent word (\"the\") is given the integer 0 and the next most frequent is 1 and so on. The words are converted to integers and stored in the list `int_words`."
   ]
  },
  {
   "cell_type": "code",
   "execution_count": 5,
   "metadata": {
    "collapsed": false,
    "deletable": true,
    "editable": true
   },
   "outputs": [],
   "source": [
    "vocab_to_int, int_to_vocab = utils.create_lookup_tables(words)\n",
    "int_words = [vocab_to_int[word] for word in words]"
   ]
  },
  {
   "cell_type": "markdown",
   "metadata": {
    "deletable": true,
    "editable": true
   },
   "source": [
    "## Subsampling\n",
    "\n",
    "Words that show up often such as \"the\", \"of\", and \"for\" don't provide much context to the nearby words. If we discard some of them, we can remove some of the noise from our data and in return get faster training and better representations. This process is called subsampling by Mikolov. For each word $w_i$ in the training set, we'll discard it with probability given by \n",
    "\n",
    "$$ P(w_i) = 1 - \\sqrt{\\frac{t}{f(w_i)}} $$\n",
    "\n",
    "where $t$ is a threshold parameter and $f(w_i)$ is the frequency of word $w_i$ in the total dataset.\n",
    "\n",
    "I'm going to leave this up to you as an exercise. This is more of a programming challenge, than about deep learning specifically. But, being able to prepare your data for your network is an important skill to have. Check out my solution to see how I did it.\n",
    "\n",
    "> **Exercise:** Implement subsampling for the words in `int_words`. That is, go through `int_words` and discard each word given the probablility $P(w_i)$ shown above. Note that $P(w_i)$ is the probability that a word is discarded. Assign the subsampled data to `train_words`."
   ]
  },
  {
   "cell_type": "code",
   "execution_count": 6,
   "metadata": {
    "collapsed": false,
    "deletable": true,
    "editable": true
   },
   "outputs": [],
   "source": [
    "from collections import Counter\n",
    "import random\n",
    "\n",
    "threshold = 1e-5\n",
    "word_counts = Counter(int_words)\n",
    "total_count = len(int_words)\n",
    "freqs = {word: count/total_count for word, count in word_counts.items()}\n",
    "p_drop = {word: 1 - np.sqrt(threshold/freqs[word]) for word in word_counts}\n",
    "train_words = [word for word in int_words if p_drop[word] < random.random()]"
   ]
  },
  {
   "cell_type": "markdown",
   "metadata": {
    "deletable": true,
    "editable": true
   },
   "source": [
    "## Making batches"
   ]
  },
  {
   "cell_type": "markdown",
   "metadata": {
    "deletable": true,
    "editable": true
   },
   "source": [
    "Now that our data is in good shape, we need to get it into the proper form to pass it into our network. With the skip-gram architecture, for each word in the text, we want to grab all the words in a window around that word, with size $C$. \n",
    "\n",
    "From [Mikolov et al.](https://arxiv.org/pdf/1301.3781.pdf): \n",
    "\n",
    "\"Since the more distant words are usually less related to the current word than those close to it, we give less weight to the distant words by sampling less from those words in our training examples... If we choose $C = 5$, for each training word we will select randomly a number $R$ in range $< 1; C >$, and then use $R$ words from history and $R$ words from the future of the current word as correct labels.\"\n",
    "\n",
    "> **Exercise:** Implement a function `get_target` that receives a list of words, an index, and a window size, then returns a list of words in the window around the index. Make sure to use the algorithm described above, where you choose a random number of words from the window."
   ]
  },
  {
   "cell_type": "code",
   "execution_count": 7,
   "metadata": {
    "collapsed": true,
    "deletable": true,
    "editable": true
   },
   "outputs": [],
   "source": [
    "def get_target(words, idx, window_size=5):\n",
    "    ''' Get a list of words in a window around an index. '''\n",
    "    \n",
    "    R = np.random.randint(1, window_size+1)\n",
    "    start = idx - R if (idx - R) > 0 else 0\n",
    "    stop = idx + R\n",
    "    target_words = set(words[start:idx] + words[idx+1:stop+1])\n",
    "    \n",
    "    return list(target_words)"
   ]
  },
  {
   "cell_type": "markdown",
   "metadata": {
    "deletable": true,
    "editable": true
   },
   "source": [
    "Here's a function that returns batches for our network. The idea is that it grabs `batch_size` words from a words list. Then for each of those words, it gets the target words in the window. I haven't found a way to pass in a random number of target words and get it to work with the architecture, so I make one row per input-target pair. This is a generator function by the way, helps save memory."
   ]
  },
  {
   "cell_type": "code",
   "execution_count": 8,
   "metadata": {
    "collapsed": false,
    "deletable": true,
    "editable": true
   },
   "outputs": [],
   "source": [
    "def get_batches(words, batch_size, window_size=5):\n",
    "    ''' Create a generator of word batches as a tuple (inputs, targets) '''\n",
    "    \n",
    "    n_batches = len(words)//batch_size\n",
    "    \n",
    "    # only full batches\n",
    "    words = words[:n_batches*batch_size]\n",
    "    \n",
    "    for idx in range(0, len(words), batch_size):\n",
    "        x, y = [], []\n",
    "        batch = words[idx:idx+batch_size]\n",
    "        for ii in range(len(batch)):\n",
    "            batch_x = batch[ii]\n",
    "            batch_y = get_target(batch, ii, window_size)\n",
    "            y.extend(batch_y)\n",
    "            x.extend([batch_x]*len(batch_y))\n",
    "        yield x, y"
   ]
  },
  {
   "cell_type": "markdown",
   "metadata": {
    "collapsed": false,
    "deletable": true,
    "editable": true
   },
   "source": [
    "## Building the graph\n",
    "\n",
    "From Chris McCormick's blog, we can see the general structure of our network.\n",
    "![embedding_network](./assets/skip_gram_net_arch.png)\n",
    "\n",
    "The input words are passed in as one-hot encoded vectors. This will go into a hidden layer of linear units, then into a softmax layer. We'll use the softmax layer to make a prediction like normal.\n",
    "\n",
    "The idea here is to train the hidden layer weight matrix to find efficient representations for our words. This weight matrix is usually called the embedding matrix or embedding look-up table. We can discard the softmax layer becuase we don't really care about making predictions with this network. We just want the embedding matrix so we can use it in other networks we build from the dataset.\n",
    "\n",
    "I'm going to have you build the graph in stages now. First off, creating the `inputs` and `labels` placeholders like normal.\n",
    "\n",
    "> **Exercise:** Assign `inputs` and `labels` using `tf.placeholder`. We're going to be passing in integers, so set the data types to `tf.int32`. The batches we're passing in will have varying sizes, so set the batch sizes to [`None`]. To make things work later, you'll need to set the second dimension of `labels` to `None` or `1`."
   ]
  },
  {
   "cell_type": "code",
   "execution_count": 9,
   "metadata": {
    "collapsed": false,
    "deletable": true,
    "editable": true
   },
   "outputs": [],
   "source": [
    "train_graph = tf.Graph()\n",
    "with train_graph.as_default():\n",
    "    inputs = tf.placeholder(tf.int32, [None], name='inputs')\n",
    "    labels = tf.placeholder(tf.int32, [None, None], name='labels')"
   ]
  },
  {
   "cell_type": "markdown",
   "metadata": {
    "deletable": true,
    "editable": true
   },
   "source": [
    "## Embedding\n",
    "\n"
   ]
  },
  {
   "cell_type": "markdown",
   "metadata": {
    "collapsed": true,
    "deletable": true,
    "editable": true
   },
   "source": [
    "The embedding matrix has a size of the number of words by the number of neurons in the hidden layer. So, if you have 10,000 words and 300 hidden units, the matrix will have size $10,000 \\times 300$. Remember that we're using one-hot encoded vectors for our inputs. When you do the matrix multiplication of the one-hot vector with the embedding matrix, you end up selecting only one row out of the entire matrix:\n",
    "\n",
    "![one-hot matrix multiplication](assets/matrix_mult_w_one_hot.png)\n",
    "\n",
    "You don't actually need to do the matrix multiplication, you just need to select the row in the embedding matrix that corresponds to the input word. Then, the embedding matrix becomes a lookup table, you're looking up a vector the size of the hidden layer that represents the input word.\n",
    "\n",
    "<img src=\"assets/word2vec_weight_matrix_lookup_table.png\" width=500>\n",
    "\n",
    "\n",
    "> **Exercise:** Tensorflow provides a convenient function [`tf.nn.embedding_lookup`](https://www.tensorflow.org/api_docs/python/tf/nn/embedding_lookup) that does this lookup for us. You pass in the embedding matrix and a tensor of integers, then it returns rows in the matrix corresponding to those integers. Below, set the number of embedding features you'll use (200 is a good start), create the embedding matrix variable, and use [`tf.nn.embedding_lookup`](https://www.tensorflow.org/api_docs/python/tf/nn/embedding_lookup) to get the embedding tensors. For the embedding matrix, I suggest you initialize it with a uniform random numbers between -1 and 1 using [tf.random_uniform](https://www.tensorflow.org/api_docs/python/tf/random_uniform). This [TensorFlow tutorial](https://www.tensorflow.org/tutorials/word2vec) will help if you get stuck."
   ]
  },
  {
   "cell_type": "code",
   "execution_count": 10,
   "metadata": {
    "collapsed": true,
    "deletable": true,
    "editable": true
   },
   "outputs": [],
   "source": [
    "n_vocab = len(int_to_vocab)\n",
    "n_embedding = 200 # Number of embedding features \n",
    "with train_graph.as_default():\n",
    "    embedding = tf.Variable(tf.random_uniform((n_vocab, n_embedding), -1, 1))\n",
    "    embed = tf.nn.embedding_lookup(embedding, inputs)"
   ]
  },
  {
   "cell_type": "markdown",
   "metadata": {
    "deletable": true,
    "editable": true
   },
   "source": [
    "## Negative sampling\n",
    "\n"
   ]
  },
  {
   "cell_type": "markdown",
   "metadata": {
    "deletable": true,
    "editable": true
   },
   "source": [
    "For every example we give the network, we train it using the output from the softmax layer. That means for each input, we're making very small changes to millions of weights even though we only have one true example. This makes training the network very inefficient. We can approximate the loss from the softmax layer by only updating a small subset of all the weights at once. We'll update the weights for the correct label, but only a small number of incorrect labels. This is called [\"negative sampling\"](http://papers.nips.cc/paper/5021-distributed-representations-of-words-and-phrases-and-their-compositionality.pdf). Tensorflow has a convenient function to do this, [`tf.nn.sampled_softmax_loss`](https://www.tensorflow.org/api_docs/python/tf/nn/sampled_softmax_loss).\n",
    "\n",
    "> **Exercise:** Below, create weights and biases for the softmax layer. Then, use [`tf.nn.sampled_softmax_loss`](https://www.tensorflow.org/api_docs/python/tf/nn/sampled_softmax_loss) to calculate the loss. Be sure to read the documentation to figure out how it works."
   ]
  },
  {
   "cell_type": "code",
   "execution_count": 11,
   "metadata": {
    "collapsed": false,
    "deletable": true,
    "editable": true
   },
   "outputs": [],
   "source": [
    "# Number of negative labels to sample\n",
    "n_sampled = 100\n",
    "with train_graph.as_default():\n",
    "    softmax_w = tf.Variable(tf.truncated_normal((n_vocab, n_embedding), stddev=0.1))\n",
    "    softmax_b = tf.Variable(tf.zeros(n_vocab))\n",
    "    \n",
    "    # Calculate the loss using negative sampling\n",
    "    loss = tf.nn.sampled_softmax_loss(softmax_w, softmax_b, labels, embed,\n",
    "                                      n_sampled, n_vocab)\n",
    "    \n",
    "    cost = tf.reduce_mean(loss)\n",
    "    optimizer = tf.train.AdamOptimizer().minimize(cost)"
   ]
  },
  {
   "cell_type": "markdown",
   "metadata": {
    "deletable": true,
    "editable": true
   },
   "source": [
    "## Validation\n",
    "\n",
    "This code is from Thushan Ganegedara's implementation. Here we're going to choose a few common words and few uncommon words. Then, we'll print out the closest words to them. It's a nice way to check that our embedding table is grouping together words with similar semantic meanings."
   ]
  },
  {
   "cell_type": "code",
   "execution_count": 12,
   "metadata": {
    "collapsed": true,
    "deletable": true,
    "editable": true
   },
   "outputs": [],
   "source": [
    "with train_graph.as_default():\n",
    "    ## From Thushan Ganegedara's implementation\n",
    "    valid_size = 16 # Random set of words to evaluate similarity on.\n",
    "    valid_window = 100\n",
    "    # pick 8 samples from (0,100) and (1000,1100) each ranges. lower id implies more frequent \n",
    "    valid_examples = np.array(random.sample(range(valid_window), valid_size//2))\n",
    "    valid_examples = np.append(valid_examples, \n",
    "                               random.sample(range(1000,1000+valid_window), valid_size//2))\n",
    "\n",
    "    valid_dataset = tf.constant(valid_examples, dtype=tf.int32)\n",
    "    \n",
    "    # We use the cosine distance:\n",
    "    norm = tf.sqrt(tf.reduce_sum(tf.square(embedding), 1, keep_dims=True))\n",
    "    normalized_embedding = embedding / norm\n",
    "    valid_embedding = tf.nn.embedding_lookup(normalized_embedding, valid_dataset)\n",
    "    similarity = tf.matmul(valid_embedding, tf.transpose(normalized_embedding))"
   ]
  },
  {
   "cell_type": "code",
   "execution_count": 13,
   "metadata": {
    "collapsed": true,
    "deletable": true,
    "editable": true
   },
   "outputs": [],
   "source": [
    "# If the checkpoints directory doesn't exist:\n",
    "!mkdir checkpoints"
   ]
  },
  {
   "cell_type": "markdown",
   "metadata": {
    "deletable": true,
    "editable": true
   },
   "source": [
    "## Training\n",
    "\n",
    "Below is the code to train the network. Every 100 batches it reports the training loss. Every 1000 batches, it'll print out the validation words."
   ]
  },
  {
   "cell_type": "code",
   "execution_count": null,
   "metadata": {
    "collapsed": false,
    "deletable": true,
    "editable": true
   },
   "outputs": [
    {
     "name": "stdout",
     "output_type": "stream",
     "text": [
      "Epoch 1/2 Iteration: 100 Avg. Training loss: 5.6570 0.3655 sec/batch\n",
      "Epoch 1/2 Iteration: 200 Avg. Training loss: 5.5790 0.3773 sec/batch\n",
      "Epoch 1/2 Iteration: 300 Avg. Training loss: 5.4937 0.3860 sec/batch\n",
      "Epoch 1/2 Iteration: 400 Avg. Training loss: 5.5937 0.3914 sec/batch\n",
      "Epoch 1/2 Iteration: 500 Avg. Training loss: 5.4961 0.3753 sec/batch\n",
      "Epoch 1/2 Iteration: 600 Avg. Training loss: 5.5504 0.3612 sec/batch\n",
      "Epoch 1/2 Iteration: 700 Avg. Training loss: 5.5570 0.3994 sec/batch\n",
      "Epoch 1/2 Iteration: 800 Avg. Training loss: 5.5224 0.3978 sec/batch\n",
      "Epoch 1/2 Iteration: 900 Avg. Training loss: 5.4412 0.3983 sec/batch\n",
      "Epoch 1/2 Iteration: 1000 Avg. Training loss: 5.4435 0.4065 sec/batch\n",
      "Nearest to not: scrapes, henotheistic, kettle, esplanade, selectively, negligent, cryptographer, insight,\n",
      "Nearest to seven: envied, decried, engages, esotericism, extrapolation, cain, putnam, osama,\n",
      "Nearest to can: calvin, trousers, convict, enumerates, wardens, ducas, conquering, state,\n",
      "Nearest to was: ephedrine, vindication, victoria, adventurous, lading, player, digby, dough,\n",
      "Nearest to an: sistine, rugby, tetris, harrison, narrator, kekkonen, lb, heathrow,\n",
      "Nearest to if: sexism, tice, cacao, justifiably, ghouta, cysts, lucca, shoemakers,\n",
      "Nearest to by: boosted, farber, flavouring, elegant, washington, breeding, venturi, moniker,\n",
      "Nearest to his: veda, synge, amalfi, obligations, coining, onset, pseudonyms, subsequently,\n",
      "Nearest to know: becoming, prospective, zangger, castigated, surreptitiously, workin, uphold, walking,\n",
      "Nearest to brother: encircles, pastor, pesos, hough, robbed, reeds, appetites, bumbling,\n",
      "Nearest to defense: daron, menagerie, getter, females, witches, fairing, fitzalan, aldus,\n",
      "Nearest to notes: galindo, mineralogical, kindling, dawning, crossings, magickal, formalization, pigment,\n",
      "Nearest to assembly: beas, nederland, drapery, minarchist, affricates, theorizing, poznan, schooner,\n",
      "Nearest to institute: formant, brake, pictures, hyperfocal, connected, waw, watergate, engrailed,\n",
      "Nearest to derived: ghosts, expired, formally, cockroach, rhode, reductions, kilowatt, achaean,\n",
      "Nearest to woman: maharal, subjecting, dentition, supposition, ligny, mattress, diablo, deng,\n",
      "Epoch 1/2 Iteration: 1100 Avg. Training loss: 5.4871 0.4003 sec/batch\n",
      "Epoch 1/2 Iteration: 1200 Avg. Training loss: 5.3744 0.3893 sec/batch\n",
      "Epoch 1/2 Iteration: 1300 Avg. Training loss: 5.2917 0.3859 sec/batch\n",
      "Epoch 1/2 Iteration: 1400 Avg. Training loss: 5.2288 0.3890 sec/batch\n",
      "Epoch 1/2 Iteration: 1500 Avg. Training loss: 5.1288 0.4014 sec/batch\n",
      "Epoch 1/2 Iteration: 1600 Avg. Training loss: 5.1583 0.4385 sec/batch\n",
      "Epoch 1/2 Iteration: 1700 Avg. Training loss: 5.0712 0.3687 sec/batch\n",
      "Epoch 1/2 Iteration: 1800 Avg. Training loss: 5.0753 0.3994 sec/batch\n",
      "Epoch 1/2 Iteration: 1900 Avg. Training loss: 5.0050 0.4002 sec/batch\n",
      "Epoch 1/2 Iteration: 2000 Avg. Training loss: 4.9548 0.3983 sec/batch\n",
      "Nearest to not: bother, scrapes, insight, silent, lussac, originate, henotheistic, different,\n",
      "Nearest to seven: decried, envied, engages, listening, evolved, western, notion, doesn,\n",
      "Nearest to can: state, trousers, stating, calvin, wardens, contradictory, occupy, created,\n",
      "Nearest to was: ephedrine, vindication, victoria, player, producing, dough, there, evolve,\n",
      "Nearest to an: sistine, rugby, tetris, built, vendors, contents, narrator, cases,\n",
      "Nearest to if: sexism, ghouta, cacao, modifier, officers, justifiably, strip, records,\n",
      "Nearest to by: boosted, washington, elegant, however, international, wooden, change, breeding,\n",
      "Nearest to his: veda, obligations, synge, trial, coining, intended, subsequently, pseudonyms,\n",
      "Nearest to know: becoming, prospective, castigated, zangger, walking, strategy, clever, barometer,\n",
      "Nearest to brother: pastor, encircles, pesos, leaders, robbed, fear, bumbling, reeds,\n",
      "Nearest to defense: females, menagerie, fitzalan, information, alan, folded, acquire, objectors,\n",
      "Nearest to notes: galindo, crossings, lifting, probably, underlying, measured, kindling, roles,\n",
      "Nearest to assembly: beas, nederland, drapery, poznan, blogger, schooner, theorizing, unidentified,\n",
      "Nearest to institute: pictures, formant, connected, brake, decrees, capra, relegate, hyperfocal,\n",
      "Nearest to derived: ghosts, formally, expired, pris, reductions, indicated, dna, enjoyed,\n",
      "Nearest to woman: maharal, subjecting, eight, dentition, sphere, there, mattress, supposition,\n",
      "Epoch 1/2 Iteration: 2100 Avg. Training loss: 4.9160 0.4043 sec/batch\n",
      "Epoch 1/2 Iteration: 2200 Avg. Training loss: 4.9121 0.4191 sec/batch\n",
      "Epoch 1/2 Iteration: 2300 Avg. Training loss: 4.8697 0.3984 sec/batch\n",
      "Epoch 1/2 Iteration: 2400 Avg. Training loss: 4.8481 0.3987 sec/batch\n",
      "Epoch 1/2 Iteration: 2500 Avg. Training loss: 4.8232 0.3962 sec/batch\n",
      "Epoch 1/2 Iteration: 2600 Avg. Training loss: 4.8150 0.4010 sec/batch\n",
      "Epoch 1/2 Iteration: 2700 Avg. Training loss: 4.7960 0.3991 sec/batch\n",
      "Epoch 1/2 Iteration: 2800 Avg. Training loss: 4.7885 0.3975 sec/batch\n",
      "Epoch 1/2 Iteration: 2900 Avg. Training loss: 4.7912 0.3993 sec/batch\n",
      "Epoch 1/2 Iteration: 3000 Avg. Training loss: 4.7938 0.3995 sec/batch\n",
      "Nearest to not: insight, henotheistic, scrapes, bother, lussac, selectively, silent, originate,\n",
      "Nearest to seven: engages, decried, envied, listening, esotericism, gradually, evolved, cain,\n",
      "Nearest to can: trousers, stating, state, calvin, confidence, wardens, convict, occupy,\n",
      "Nearest to was: ephedrine, vindication, player, victoria, adventurous, pannonia, producing, chips,\n",
      "Nearest to an: sistine, rugby, tetris, gravitational, built, narrator, discoverer, contents,\n",
      "Nearest to if: sexism, ghouta, demonstrating, justifiably, shoemakers, vector, modifier, installations,\n",
      "Nearest to by: elegant, boosted, washington, however, wooden, breeding, farber, ill,\n",
      "Nearest to his: obligations, trial, synge, arrest, veda, subsequently, coining, genius,\n",
      "Nearest to know: becoming, prospective, castigated, zangger, walking, differs, clever, uphold,\n",
      "Nearest to brother: pastor, pesos, encircles, leaders, fear, robbed, induces, kitchens,\n",
      "Nearest to defense: menagerie, females, fitzalan, folded, equate, acquire, witches, primitives,\n",
      "Nearest to notes: crossings, lifting, galindo, formalization, kindling, underlying, probably, trans,\n",
      "Nearest to assembly: drapery, beas, nederland, aforementioned, unidentified, poznan, blogger, theorizing,\n",
      "Nearest to institute: pictures, formant, connected, brake, decrees, capra, affluence, relegate,\n",
      "Nearest to derived: ghosts, expired, formally, pris, stressed, reductions, rhode, demonstrate,\n",
      "Nearest to woman: maharal, subjecting, eight, dentition, supposition, sphere, news, margaret,\n",
      "Epoch 1/2 Iteration: 3100 Avg. Training loss: 4.7630 0.4051 sec/batch\n",
      "Epoch 1/2 Iteration: 3200 Avg. Training loss: 4.7497 0.3990 sec/batch\n",
      "Epoch 1/2 Iteration: 3300 Avg. Training loss: 4.7488 0.4015 sec/batch\n",
      "Epoch 1/2 Iteration: 3400 Avg. Training loss: 4.7221 0.4031 sec/batch\n",
      "Epoch 1/2 Iteration: 3500 Avg. Training loss: 4.7249 0.4124 sec/batch\n",
      "Epoch 1/2 Iteration: 3600 Avg. Training loss: 4.6795 0.3768 sec/batch\n",
      "Epoch 1/2 Iteration: 3700 Avg. Training loss: 4.7117 0.3968 sec/batch\n",
      "Epoch 1/2 Iteration: 3800 Avg. Training loss: 4.7306 0.4170 sec/batch\n",
      "Epoch 1/2 Iteration: 3900 Avg. Training loss: 4.6972 0.3877 sec/batch\n",
      "Epoch 1/2 Iteration: 4000 Avg. Training loss: 4.6823 0.3918 sec/batch\n",
      "Nearest to not: henotheistic, selectively, insight, scrapes, proceed, your, bother, originate,\n",
      "Nearest to seven: two, engages, four, envied, decried, nelson, one, cain,\n",
      "Nearest to can: trousers, calvin, stating, convict, lens, template, confidence, sharps,\n",
      "Nearest to was: vindication, ephedrine, sandinista, pannonia, adventurous, victoria, digby, player,\n",
      "Nearest to an: rugby, sistine, tetris, discoverer, gravitational, narrator, lb, built,\n",
      "Nearest to if: sexism, vector, ghouta, lathe, shoemakers, p, tice, demonstrating,\n",
      "Nearest to by: elegant, however, boosted, washington, breeding, farber, mediator, modena,\n",
      "Nearest to his: tilden, synge, trial, subsequently, arrest, obligations, veda, coining,\n",
      "Nearest to know: becoming, prospective, castigated, zangger, walking, surreptitiously, uphold, differs,\n",
      "Nearest to brother: pastor, pesos, leaders, encircles, robbed, induces, hough, abdullah,\n",
      "Nearest to defense: menagerie, females, fitzalan, fairing, encapsulated, mahathir, equate, objectors,\n",
      "Nearest to notes: galindo, crossings, lifting, formalization, kindling, probably, mineralogical, diogenes,\n",
      "Nearest to assembly: beas, drapery, nederland, poznan, branch, unidentified, aforementioned, affricates,\n",
      "Nearest to institute: pictures, formant, brake, connected, decrees, capra, affluence, farah,\n",
      "Nearest to derived: ghosts, pris, reductions, rhode, demonstrate, item, expired, formally,\n",
      "Nearest to woman: maharal, subjecting, eight, margaret, supposition, dentition, mattress, marianne,\n",
      "Epoch 1/2 Iteration: 4100 Avg. Training loss: 4.6826 0.3936 sec/batch\n",
      "Epoch 1/2 Iteration: 4200 Avg. Training loss: 4.6564 0.3796 sec/batch\n",
      "Epoch 1/2 Iteration: 4300 Avg. Training loss: 4.6033 0.3775 sec/batch\n",
      "Epoch 1/2 Iteration: 4400 Avg. Training loss: 4.6244 0.3806 sec/batch\n",
      "Epoch 1/2 Iteration: 4500 Avg. Training loss: 4.6266 0.3808 sec/batch\n",
      "Epoch 1/2 Iteration: 4600 Avg. Training loss: 4.6345 0.3852 sec/batch\n",
      "Epoch 2/2 Iteration: 4700 Avg. Training loss: 4.5710 0.2803 sec/batch\n",
      "Epoch 2/2 Iteration: 4800 Avg. Training loss: 4.5541 0.3795 sec/batch\n",
      "Epoch 2/2 Iteration: 4900 Avg. Training loss: 4.5351 0.3811 sec/batch\n",
      "Epoch 2/2 Iteration: 5000 Avg. Training loss: 4.4861 0.3834 sec/batch\n",
      "Nearest to not: selectively, henotheistic, scrapes, insight, proceed, your, bother, meaning,\n",
      "Nearest to seven: two, four, one, nelson, painter, physicist, envied, cartoonist,\n",
      "Nearest to can: lens, trousers, countably, sharps, calvin, stating, does, asymptomatic,\n",
      "Nearest to was: vindication, sandinista, pannonia, victoria, ephedrine, adventurous, digby, traditionalists,\n",
      "Nearest to an: rugby, sistine, discoverer, tetris, lb, gravitational, narrator, champ,\n",
      "Nearest to if: vector, sexism, ghouta, default, tice, variable, lathe, shoemakers,\n",
      "Nearest to by: elegant, however, farber, earthly, breeding, modena, wooden, boosted,\n",
      "Nearest to his: tilden, arrest, trial, synge, lady, lempira, subsequently, robbery,\n",
      "Nearest to know: becoming, prospective, castigated, zangger, clever, walking, surreptitiously, um,\n",
      "Nearest to brother: pastor, hough, leaders, pesos, robbed, soleil, merino, encircles,\n",
      "Nearest to defense: menagerie, fitzalan, females, objectors, mahathir, fairing, encapsulated, folded,\n",
      "Nearest to notes: galindo, crossings, lifting, formalization, mineralogical, kindling, probably, trans,\n",
      "Nearest to assembly: beas, drapery, nederland, branch, poznan, minarchist, aforementioned, blogger,\n",
      "Nearest to institute: pictures, brake, formant, connected, relegate, decrees, cabala, engrailed,\n",
      "Nearest to derived: ghosts, pris, stressed, reductions, achaean, item, demonstrate, mandible,\n",
      "Nearest to woman: maharal, subjecting, brady, margaret, supposition, dhimmis, matilda, khartoum,\n",
      "Epoch 2/2 Iteration: 5100 Avg. Training loss: 4.4762 0.3792 sec/batch\n",
      "Epoch 2/2 Iteration: 5200 Avg. Training loss: 4.4741 0.3817 sec/batch\n",
      "Epoch 2/2 Iteration: 5300 Avg. Training loss: 4.4705 0.4032 sec/batch\n",
      "Epoch 2/2 Iteration: 5400 Avg. Training loss: 4.5096 0.4024 sec/batch\n",
      "Epoch 2/2 Iteration: 5500 Avg. Training loss: 4.4934 0.3920 sec/batch\n",
      "Epoch 2/2 Iteration: 5600 Avg. Training loss: 4.4802 0.4162 sec/batch\n",
      "Epoch 2/2 Iteration: 5700 Avg. Training loss: 4.4523 0.3911 sec/batch\n",
      "Epoch 2/2 Iteration: 5800 Avg. Training loss: 4.4064 0.3808 sec/batch\n",
      "Epoch 2/2 Iteration: 5900 Avg. Training loss: 4.4196 0.3834 sec/batch\n",
      "Epoch 2/2 Iteration: 6000 Avg. Training loss: 4.4225 0.3855 sec/batch\n",
      "Nearest to not: selectively, henotheistic, proceed, scrapes, insight, scavengers, hostile, animism,\n",
      "Nearest to seven: two, four, martinez, nelson, baez, railway, rosenthal, envied,\n",
      "Nearest to can: lens, countably, asymptomatic, sharps, behaves, trousers, synchronous, equiv,\n",
      "Nearest to was: ephedrine, vindication, sandinista, victoria, pannonia, pinochet, traditionalists, judaeo,\n",
      "Nearest to an: rugby, sistine, gravitational, tetris, discoverer, unranked, built, ramat,\n",
      "Nearest to if: vector, sexism, set, infinite, p, lathe, variable, ghouta,\n",
      "Nearest to by: elegant, however, earthly, washington, breeding, farber, ill, modena,\n",
      "Nearest to his: tilden, arrest, trial, lady, desires, son, saliva, subsequently,\n",
      "Nearest to know: prospective, becoming, castigated, clever, zangger, walking, differs, stiffened,\n",
      "Nearest to brother: pastor, robbed, hough, soleil, leaders, merino, aaronic, gotha,\n",
      "Nearest to defense: menagerie, fitzalan, mahathir, females, aldus, objectors, fairing, primitives,\n",
      "Nearest to notes: galindo, crossings, formalization, lifting, mineralogical, probably, diogenes, provider,\n",
      "Nearest to assembly: branch, drapery, beas, nederland, executive, poznan, blogger, minarchist,\n",
      "Nearest to institute: pictures, formant, brake, connected, relegate, cabala, engrailed, polytechnical,\n",
      "Nearest to derived: breathing, reductions, stressed, achaean, dna, item, mandible, ghosts,\n",
      "Nearest to woman: maharal, subjecting, brady, dhimmis, matilda, creutzfeldt, supposition, wives,\n",
      "Epoch 2/2 Iteration: 6100 Avg. Training loss: 4.4357 0.3842 sec/batch\n",
      "Epoch 2/2 Iteration: 6200 Avg. Training loss: 4.4177 0.3788 sec/batch\n",
      "Epoch 2/2 Iteration: 6300 Avg. Training loss: 4.4269 0.3838 sec/batch\n",
      "Epoch 2/2 Iteration: 6400 Avg. Training loss: 4.4104 0.3810 sec/batch\n",
      "Epoch 2/2 Iteration: 6500 Avg. Training loss: 4.4238 0.3815 sec/batch\n",
      "Epoch 2/2 Iteration: 6600 Avg. Training loss: 4.4518 0.3806 sec/batch\n",
      "Epoch 2/2 Iteration: 6700 Avg. Training loss: 4.3996 0.3780 sec/batch\n",
      "Epoch 2/2 Iteration: 6800 Avg. Training loss: 4.3748 0.3885 sec/batch\n",
      "Epoch 2/2 Iteration: 6900 Avg. Training loss: 4.3793 0.3811 sec/batch\n",
      "Epoch 2/2 Iteration: 7000 Avg. Training loss: 4.4045 0.3801 sec/batch\n",
      "Nearest to not: selectively, insight, proceed, henotheistic, scrapes, animism, scavengers, ref,\n",
      "Nearest to seven: two, four, martinez, one, nelson, envied, baez, rosenthal,\n",
      "Nearest to can: lens, electrostatic, countably, asymptomatic, template, equiv, behaves, calvin,\n",
      "Nearest to was: ephedrine, sandinista, victoria, judaeo, later, pannonia, pinochet, adventurous,\n",
      "Nearest to an: rugby, sistine, tetris, discoverer, gravitational, hinnom, simplified, ramat,\n",
      "Nearest to if: vector, lathe, variable, sexism, infinite, shoemakers, p, epsilon,\n",
      "Nearest to by: elegant, earthly, venturi, however, verhoeven, binoculars, jerrold, survived,\n",
      "Nearest to his: tilden, lady, arrest, trial, son, desires, wes, ligament,\n",
      "Nearest to know: prospective, becoming, castigated, clever, um, stiffened, differs, surreptitiously,\n",
      "Nearest to brother: pastor, robbed, soleil, hough, gotha, merino, aaronic, salvation,\n",
      "Nearest to defense: menagerie, fitzalan, mahathir, aldus, objectors, fairing, daron, bastille,\n",
      "Nearest to notes: galindo, formalization, crossings, mineralogical, lifting, diogenes, provider, dawning,\n",
      "Nearest to assembly: branch, executive, drapery, poznan, representatives, beas, nederland, bicameral,\n",
      "Nearest to institute: pictures, formant, brake, relegate, connected, cabala, polytechnical, alou,\n",
      "Nearest to derived: breathing, stressed, dna, achaean, reductions, item, mandible, mosig,\n",
      "Nearest to woman: dhimmis, maharal, subjecting, matilda, wives, brady, supposition, pontifex,\n"
     ]
    }
   ],
   "source": [
    "epochs = 2\n",
    "batch_size = 1000\n",
    "window_size = 10\n",
    "\n",
    "with train_graph.as_default():\n",
    "    saver = tf.train.Saver()\n",
    "\n",
    "with tf.Session(graph=train_graph) as sess:\n",
    "    iteration = 1\n",
    "    loss = 0\n",
    "    sess.run(tf.global_variables_initializer())\n",
    "\n",
    "    for e in range(1, epochs+1):\n",
    "        batches = get_batches(train_words, batch_size, window_size)\n",
    "        start = time.time()\n",
    "        for x, y in batches:\n",
    "            \n",
    "            feed = {inputs: x,\n",
    "                    labels: np.array(y)[:, None]}\n",
    "            train_loss, _ = sess.run([cost, optimizer], feed_dict=feed)\n",
    "            \n",
    "            loss += train_loss\n",
    "            \n",
    "            if iteration % 100 == 0: \n",
    "                end = time.time()\n",
    "                print(\"Epoch {}/{}\".format(e, epochs),\n",
    "                      \"Iteration: {}\".format(iteration),\n",
    "                      \"Avg. Training loss: {:.4f}\".format(loss/100),\n",
    "                      \"{:.4f} sec/batch\".format((end-start)/100))\n",
    "                loss = 0\n",
    "                start = time.time()\n",
    "            \n",
    "            if iteration % 1000 == 0:\n",
    "                ## From Thushan Ganegedara's implementation\n",
    "                # note that this is expensive (~20% slowdown if computed every 500 steps)\n",
    "                sim = similarity.eval()\n",
    "                for i in range(valid_size):\n",
    "                    valid_word = int_to_vocab[valid_examples[i]]\n",
    "                    top_k = 8 # number of nearest neighbors\n",
    "                    nearest = (-sim[i, :]).argsort()[1:top_k+1]\n",
    "                    log = 'Nearest to %s:' % valid_word\n",
    "                    for k in range(top_k):\n",
    "                        close_word = int_to_vocab[nearest[k]]\n",
    "                        log = '%s %s,' % (log, close_word)\n",
    "                    print(log)\n",
    "            \n",
    "            iteration += 1\n",
    "    save_path = saver.save(sess, \"checkpoints/text8.ckpt\")\n",
    "    embed_mat = sess.run(normalized_embedding)"
   ]
  },
  {
   "cell_type": "markdown",
   "metadata": {
    "deletable": true,
    "editable": true
   },
   "source": [
    "Restore the trained network if you need to:"
   ]
  },
  {
   "cell_type": "code",
   "execution_count": null,
   "metadata": {
    "collapsed": false,
    "deletable": true,
    "editable": true
   },
   "outputs": [],
   "source": [
    "with train_graph.as_default():\n",
    "    saver = tf.train.Saver()\n",
    "\n",
    "with tf.Session(graph=train_graph) as sess:\n",
    "    saver.restore(sess, tf.train.latest_checkpoint('checkpoints'))\n",
    "    embed_mat = sess.run(embedding)"
   ]
  },
  {
   "cell_type": "markdown",
   "metadata": {
    "deletable": true,
    "editable": true
   },
   "source": [
    "## Visualizing the word vectors\n",
    "\n",
    "Below we'll use T-SNE to visualize how our high-dimensional word vectors cluster together. T-SNE is used to project these vectors into two dimensions while preserving local stucture. Check out [this post from Christopher Olah](http://colah.github.io/posts/2014-10-Visualizing-MNIST/) to learn more about T-SNE and other ways to visualize high-dimensional data."
   ]
  },
  {
   "cell_type": "code",
   "execution_count": null,
   "metadata": {
    "collapsed": false,
    "deletable": true,
    "editable": true
   },
   "outputs": [],
   "source": [
    "%matplotlib inline\n",
    "%config InlineBackend.figure_format = 'retina'\n",
    "\n",
    "import matplotlib.pyplot as plt\n",
    "from sklearn.manifold import TSNE"
   ]
  },
  {
   "cell_type": "code",
   "execution_count": null,
   "metadata": {
    "collapsed": false,
    "deletable": true,
    "editable": true
   },
   "outputs": [],
   "source": [
    "viz_words = 500\n",
    "tsne = TSNE()\n",
    "embed_tsne = tsne.fit_transform(embed_mat[:viz_words, :])"
   ]
  },
  {
   "cell_type": "code",
   "execution_count": null,
   "metadata": {
    "collapsed": false,
    "deletable": true,
    "editable": true
   },
   "outputs": [],
   "source": [
    "fig, ax = plt.subplots(figsize=(14, 14))\n",
    "for idx in range(viz_words):\n",
    "    plt.scatter(*embed_tsne[idx, :], color='steelblue')\n",
    "    plt.annotate(int_to_vocab[idx], (embed_tsne[idx, 0], embed_tsne[idx, 1]), alpha=0.7)"
   ]
  }
 ],
 "metadata": {
  "kernelspec": {
   "display_name": "Python 3",
   "language": "python",
   "name": "python3"
  },
  "language_info": {
   "codemirror_mode": {
    "name": "ipython",
    "version": 3
   },
   "file_extension": ".py",
   "mimetype": "text/x-python",
   "name": "python",
   "nbconvert_exporter": "python",
   "pygments_lexer": "ipython3",
   "version": "3.5.3"
  }
 },
 "nbformat": 4,
 "nbformat_minor": 2
}
